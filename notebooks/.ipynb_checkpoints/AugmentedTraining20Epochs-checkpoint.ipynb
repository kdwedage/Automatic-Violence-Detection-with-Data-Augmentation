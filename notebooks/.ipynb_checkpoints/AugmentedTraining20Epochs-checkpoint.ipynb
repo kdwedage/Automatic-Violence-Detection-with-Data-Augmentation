{
 "cells": [
  {
   "cell_type": "code",
   "execution_count": 1,
   "metadata": {
    "_cell_guid": "b1076dfc-b9ad-4769-8c92-a6c4dae69d19",
    "_uuid": "8f2839f25d086af736a60e9eeb907d3b93b6e0e5"
   },
   "outputs": [
    {
     "name": "stderr",
     "output_type": "stream",
     "text": [
      "2023-12-04 07:39:25.324457: I tensorflow/core/util/port.cc:111] oneDNN custom operations are on. You may see slightly different numerical results due to floating-point round-off errors from different computation orders. To turn them off, set the environment variable `TF_ENABLE_ONEDNN_OPTS=0`.\n",
      "2023-12-04 07:39:25.388383: E tensorflow/compiler/xla/stream_executor/cuda/cuda_dnn.cc:9342] Unable to register cuDNN factory: Attempting to register factory for plugin cuDNN when one has already been registered\n",
      "2023-12-04 07:39:25.388435: E tensorflow/compiler/xla/stream_executor/cuda/cuda_fft.cc:609] Unable to register cuFFT factory: Attempting to register factory for plugin cuFFT when one has already been registered\n",
      "2023-12-04 07:39:25.388473: E tensorflow/compiler/xla/stream_executor/cuda/cuda_blas.cc:1518] Unable to register cuBLAS factory: Attempting to register factory for plugin cuBLAS when one has already been registered\n",
      "2023-12-04 07:39:25.399984: I tensorflow/core/platform/cpu_feature_guard.cc:182] This TensorFlow binary is optimized to use available CPU instructions in performance-critical operations.\n",
      "To enable the following instructions: AVX2 AVX512F AVX512_VNNI FMA, in other operations, rebuild TensorFlow with the appropriate compiler flags.\n"
     ]
    }
   ],
   "source": [
    "try:\n",
    "    import tensorflow as tf\n",
    "except:\n",
    "    !pip install tensorflow[and-cuda]"
   ]
  },
  {
   "cell_type": "code",
   "execution_count": 2,
   "metadata": {},
   "outputs": [],
   "source": [
    "# Use output of OpenPose with or without background\n",
    "BACKGROUND = False\n",
    "# Paths to videos for training\n",
    "PATHS = [\"/home/Datasets/RWF_Augmented/Video\", \"/home/Datasets/RWF_Augmented/Openpose\"]\n",
    "\n",
    "FRAME_FUNC = 'frame_diff'\n",
    "# To use frame diff to weight t (current) or t+1\n",
    "WEIGHT_CURRENT = True"
   ]
  },
  {
   "cell_type": "code",
   "execution_count": 3,
   "metadata": {
    "pycharm": {
     "name": "#%%\n"
    }
   },
   "outputs": [
    {
     "name": "stdout",
     "output_type": "stream",
     "text": [
      "INFO:tensorflow:Using MirroredStrategy with devices ('/job:localhost/replica:0/task:0/device:GPU:0', '/job:localhost/replica:0/task:0/device:GPU:1', '/job:localhost/replica:0/task:0/device:GPU:2', '/job:localhost/replica:0/task:0/device:GPU:3')\n"
     ]
    },
    {
     "name": "stderr",
     "output_type": "stream",
     "text": [
      "2023-12-04 07:39:28.732217: I tensorflow/core/common_runtime/gpu/gpu_device.cc:1886] Created device /job:localhost/replica:0/task:0/device:GPU:0 with 22493 MB memory:  -> device: 0, name: NVIDIA RTX A5000, pci bus id: 0000:1a:00.0, compute capability: 8.6\n",
      "2023-12-04 07:39:28.733204: I tensorflow/core/common_runtime/gpu/gpu_device.cc:1886] Created device /job:localhost/replica:0/task:0/device:GPU:1 with 22493 MB memory:  -> device: 1, name: NVIDIA RTX A5000, pci bus id: 0000:3d:00.0, compute capability: 8.6\n",
      "2023-12-04 07:39:28.734017: I tensorflow/core/common_runtime/gpu/gpu_device.cc:1886] Created device /job:localhost/replica:0/task:0/device:GPU:2 with 22493 MB memory:  -> device: 2, name: NVIDIA RTX A5000, pci bus id: 0000:3e:00.0, compute capability: 8.6\n",
      "2023-12-04 07:39:28.734830: I tensorflow/core/common_runtime/gpu/gpu_device.cc:1886] Created device /job:localhost/replica:0/task:0/device:GPU:3 with 22493 MB memory:  -> device: 3, name: NVIDIA RTX A5000, pci bus id: 0000:88:00.0, compute capability: 8.6\n"
     ]
    },
    {
     "name": "stdout",
     "output_type": "stream",
     "text": [
      "Number of devices: 4\n"
     ]
    }
   ],
   "source": [
    "!export TF_FORCE_GPU_ALLOW_GROWTH=True\n",
    "gpus = tf.config.list_physical_devices('GPU')\n",
    "if gpus:\n",
    "    # Currently, memory growth needs to be the same across GPUs\n",
    "    for gpu in gpus:\n",
    "        tf.config.experimental.set_memory_growth(gpu, True)\n",
    "    tf.config.set_visible_devices(gpus[0:], 'GPU')\n",
    "strategy = tf.distribute.MirroredStrategy()\n",
    "print('Number of devices: {}'.format(strategy.num_replicas_in_sync))"
   ]
  },
  {
   "cell_type": "markdown",
   "metadata": {},
   "source": [
    "Set seed"
   ]
  },
  {
   "cell_type": "code",
   "execution_count": 4,
   "metadata": {},
   "outputs": [],
   "source": [
    "SEED = 0\n",
    "import random\n",
    "import numpy as np\n",
    "random.seed(SEED)\n",
    "np.random.seed(SEED)\n",
    "tf.random.set_seed(SEED)"
   ]
  },
  {
   "cell_type": "markdown",
   "metadata": {},
   "source": [
    "# Load data"
   ]
  },
  {
   "cell_type": "code",
   "execution_count": 5,
   "metadata": {},
   "outputs": [],
   "source": [
    "import numpy as np\n",
    "import cv2"
   ]
  },
  {
   "cell_type": "code",
   "execution_count": 6,
   "metadata": {},
   "outputs": [],
   "source": [
    "ORIGINAL_FRAMES_PER_VIDEO = 150\n",
    "FRAMES_PER_VIDEO = 50 + 1\n",
    "VIDEO_WIDTH, VIDEO_HEIGHT = 100, 100\n",
    "N_CHANNELS = 3\n",
    "\n",
    "def load_videos(video_IDs: list, video_frames: int = FRAMES_PER_VIDEO, video_width: int = VIDEO_WIDTH, video_height: int = VIDEO_HEIGHT,\n",
    "                video_channels: int = N_CHANNELS, dtype = np.float32, normalize: bool = False) -> tuple:\n",
    "    videos = np.empty((len(video_IDs), video_frames, video_height, video_width, video_channels), dtype=dtype)\n",
    "\n",
    "    # Indexes of frames to be kept to comply with video_frames\n",
    "    frames_idx = set(np.round(np.linspace(0, ORIGINAL_FRAMES_PER_VIDEO - 1, video_frames)).astype(int))\n",
    "\n",
    "    for i, video_ID in enumerate(video_IDs):\n",
    "        cap = cv2.VideoCapture(video_ID)\n",
    "        frames = []\n",
    "        index = 0\n",
    "        while True:\n",
    "            ret, frame = cap.read()\n",
    "            if not ret:\n",
    "                break\n",
    "            if index in frames_idx:\n",
    "                frame = cv2.resize(frame, (video_width, video_height)).astype(dtype)\n",
    "                if normalize:\n",
    "                    frame /= 255.0\n",
    "                frames.append(frame)\n",
    "            index += 1\n",
    "        cap.release()\n",
    "\n",
    "        videos[i,] = np.array(frames)\n",
    "\n",
    "    return videos"
   ]
  },
  {
   "cell_type": "markdown",
   "metadata": {},
   "source": [
    "DataGenerator class to load videos per batch, in case all videos do not fit in memory"
   ]
  },
  {
   "cell_type": "code",
   "execution_count": 7,
   "metadata": {},
   "outputs": [],
   "source": [
    "import gc\n",
    "from tensorflow.keras import backend as K\n",
    "\n",
    "class DataGenerator(tf.keras.utils.Sequence):\n",
    "    def __init__(self, video_IDs: list, video_labels: dict, batch_size: int, paths: list = [''], video_width: int = VIDEO_WIDTH, video_height: int = VIDEO_HEIGHT,\n",
    "                video_frames: int = FRAMES_PER_VIDEO, video_channels: int = N_CHANNELS, dtype = np.float32, normalize: bool = False, shuffle: bool = True):\n",
    "        self.video_IDs = video_IDs\n",
    "        self.video_labels = video_labels\n",
    "        self.batch_size = batch_size\n",
    "        self.paths = paths\n",
    "        self.video_width = video_width\n",
    "        self.video_height = video_height\n",
    "        self.video_frames = video_frames\n",
    "        self.video_channels = video_channels\n",
    "        self.dtype = dtype\n",
    "        self.normalize = normalize\n",
    "        self.shuffle = shuffle\n",
    "\n",
    "    def __len__(self):\n",
    "        return len(self.video_IDs) // self.batch_size\n",
    "\n",
    "    def __getitem__(self, idx):\n",
    "        batch_IDs = self.video_IDs[idx*self.batch_size:(idx+1)*self.batch_size]\n",
    "        input_videos = []\n",
    "        \n",
    "        for index, path in enumerate(self.paths):\n",
    "            batch_IDs_full_path = [path+ID for ID in batch_IDs]\n",
    "\n",
    "            videos = load_videos(batch_IDs_full_path, self.video_frames, self.video_width, \n",
    "                                         self.video_height, self.video_channels, self.dtype, self.normalize)\n",
    "            \n",
    "            input_videos.append(videos)\n",
    "        \n",
    "        labels = np.array([self.video_labels[ID] for ID in batch_IDs])\n",
    "                    \n",
    "        return input_videos, labels\n",
    "            \n",
    "    \n",
    "    def on_epoch_end(self):\n",
    "        'Updates indexes after each epoch'\n",
    "        if self.shuffle:\n",
    "            np.random.shuffle(self.video_IDs)\n",
    "        # Clear memory after epochs\n",
    "        gc.collect()\n",
    "        #K.clear_session()"
   ]
  },
  {
   "cell_type": "markdown",
   "metadata": {},
   "source": [
    "## Videos to load"
   ]
  },
  {
   "cell_type": "code",
   "execution_count": 8,
   "metadata": {},
   "outputs": [],
   "source": [
    "def get_slug_from_path(path):\n",
    "    \"\"\"\n",
    "    Function to get slug from path\n",
    "    slug must contain /train or /val because there are repeated names\n",
    "    \"\"\"\n",
    "    # Try train index first\n",
    "    index = path.rfind('/train/')\n",
    "    if index == -1:\n",
    "        index = path.rfind('/val/')\n",
    "    return path[index:]"
   ]
  },
  {
   "cell_type": "code",
   "execution_count": 9,
   "metadata": {},
   "outputs": [],
   "source": [
    "import glob\n",
    "\n",
    "train_video_IDs = [get_slug_from_path(path) for path in glob.glob(PATHS[0]+'/train/*/*')]\n",
    "test_video_IDs = [get_slug_from_path(path) for path in glob.glob(PATHS[0]+'/val/*/*')]\n",
    "\n",
    "train_video_labels = {video: 0 if 'NonFight' in video else 1 for video in train_video_IDs}\n",
    "test_video_labels = {video: 0 if 'NonFight' in video else 1 for video in test_video_IDs}\n",
    "\n",
    "\n",
    "train_generator = DataGenerator(train_video_IDs, train_video_labels, batch_size=64, paths=PATHS)\n",
    "test_generator = DataGenerator(test_video_IDs, test_video_labels, batch_size=10, paths=PATHS)"
   ]
  },
  {
   "cell_type": "markdown",
   "metadata": {},
   "source": [
    "# Frame functions"
   ]
  },
  {
   "cell_type": "code",
   "execution_count": 10,
   "metadata": {},
   "outputs": [],
   "source": [
    "import tensorflow.keras.backend as K\n",
    "\n",
    "def tf_frame_diff(video):\n",
    "    return video[1:] - video[:-1]\n",
    "\n",
    "def tf_frame_dist(video):\n",
    "    video_diff = tf_frame_diff(video)\n",
    "    return K.sqrt(K.sum(K.square(video_diff), axis=-1, keepdims=True))\n",
    "\n",
    "if WEIGHT_CURRENT:\n",
    "    def tf_frame_diff_dist_combined(video):\n",
    "        video_diff = tf_frame_diff(video)\n",
    "        video_diff_current = tf.nn.relu(-video_diff)\n",
    "        video_diff_next = tf.nn.relu(video_diff)\n",
    "        video_diff_next_norm = K.sqrt(K.sum(K.square(video_diff_next), axis=-1, keepdims=True))\n",
    "        return K.concatenate([video_diff_current, video_diff_next_norm])\n",
    "else:\n",
    "    def tf_frame_diff_dist_combined(video):\n",
    "        video_diff = tf_frame_diff(video)\n",
    "        video_diff_current = tf.nn.relu(video_diff)\n",
    "        video_diff_prev = tf.nn.relu(-video_diff)\n",
    "        video_diff_prev_norm = K.sqrt(K.sum(K.square(video_diff_prev), axis=-1, keepdims=True))\n",
    "        return K.concatenate([video_diff_current, video_diff_prev_norm])\n",
    "    \n",
    "frame_func_dict = {'frame_diff': tf_frame_diff, 'frame_dist': tf_frame_dist, 'frame_diff_dist_combined': tf_frame_diff_dist_combined}\n",
    "frame_func = frame_func_dict[FRAME_FUNC]"
   ]
  },
  {
   "cell_type": "markdown",
   "metadata": {},
   "source": [
    "# ConvLSTM"
   ]
  },
  {
   "cell_type": "code",
   "execution_count": 11,
   "metadata": {},
   "outputs": [
    {
     "name": "stdout",
     "output_type": "stream",
     "text": [
      "INFO:tensorflow:Reduce to /job:localhost/replica:0/task:0/device:CPU:0 then broadcast to ('/job:localhost/replica:0/task:0/device:CPU:0',).\n",
      "INFO:tensorflow:Reduce to /job:localhost/replica:0/task:0/device:CPU:0 then broadcast to ('/job:localhost/replica:0/task:0/device:CPU:0',).\n",
      "INFO:tensorflow:Reduce to /job:localhost/replica:0/task:0/device:CPU:0 then broadcast to ('/job:localhost/replica:0/task:0/device:CPU:0',).\n",
      "INFO:tensorflow:Reduce to /job:localhost/replica:0/task:0/device:CPU:0 then broadcast to ('/job:localhost/replica:0/task:0/device:CPU:0',).\n",
      "INFO:tensorflow:Reduce to /job:localhost/replica:0/task:0/device:CPU:0 then broadcast to ('/job:localhost/replica:0/task:0/device:CPU:0',).\n",
      "INFO:tensorflow:Reduce to /job:localhost/replica:0/task:0/device:CPU:0 then broadcast to ('/job:localhost/replica:0/task:0/device:CPU:0',).\n",
      "INFO:tensorflow:Reduce to /job:localhost/replica:0/task:0/device:CPU:0 then broadcast to ('/job:localhost/replica:0/task:0/device:CPU:0',).\n",
      "INFO:tensorflow:Reduce to /job:localhost/replica:0/task:0/device:CPU:0 then broadcast to ('/job:localhost/replica:0/task:0/device:CPU:0',).\n",
      "INFO:tensorflow:Reduce to /job:localhost/replica:0/task:0/device:CPU:0 then broadcast to ('/job:localhost/replica:0/task:0/device:CPU:0',).\n",
      "INFO:tensorflow:Reduce to /job:localhost/replica:0/task:0/device:CPU:0 then broadcast to ('/job:localhost/replica:0/task:0/device:CPU:0',).\n",
      "Model: \"model\"\n",
      "__________________________________________________________________________________________________\n",
      " Layer (type)                Output Shape                 Param #   Connected to                  \n",
      "==================================================================================================\n",
      " input_2 (InputLayer)        [(None, 51, 100, 100, 3)]    0         []                            \n",
      "                                                                                                  \n",
      " input_1 (InputLayer)        [(None, 51, 100, 100, 3)]    0         []                            \n",
      "                                                                                                  \n",
      " tf.__operators__.getitem (  (None, 50, 100, 100, 3)      0         ['input_2[0][0]']             \n",
      " SlicingOpLambda)                                                                                 \n",
      "                                                                                                  \n",
      " lambda (Lambda)             (None, 50, 100, 100, 3)      0         ['input_1[0][0]']             \n",
      "                                                                                                  \n",
      " time_distributed (TimeDist  (None, 50, 98, 98, 9)        252       ['tf.__operators__.getitem[0][\n",
      " ributed)                                                           0]']                          \n",
      "                                                                                                  \n",
      " batch_normalization (Batch  (None, 50, 100, 100, 3)      12        ['lambda[0][0]']              \n",
      " Normalization)                                                                                   \n",
      "                                                                                                  \n",
      " batch_normalization_1 (Bat  (None, 50, 98, 98, 9)        18        ['time_distributed[0][0]']    \n",
      " chNormalization)                                                                                 \n",
      "                                                                                                  \n",
      " conv_lstm2d (ConvLSTM2D)    (None, 50, 98, 98, 9)        3924      ['batch_normalization[0][0]'] \n",
      "                                                                                                  \n",
      " add (Add)                   (None, 50, 98, 98, 9)        0         ['batch_normalization_1[0][0]'\n",
      "                                                                    , 'conv_lstm2d[0][0]']        \n",
      "                                                                                                  \n",
      " conv_lstm2d_1 (ConvLSTM2D)  (None, 96, 96, 32)           47360     ['add[0][0]']                 \n",
      "                                                                                                  \n",
      " depthwise_conv2d (Depthwis  (None, 94, 94, 64)           640       ['conv_lstm2d_1[0][0]']       \n",
      " eConv2D)                                                                                         \n",
      "                                                                                                  \n",
      " global_average_pooling2d (  (None, 64)                   0         ['depthwise_conv2d[0][0]']    \n",
      " GlobalAveragePooling2D)                                                                          \n",
      "                                                                                                  \n",
      " dense (Dense)               (None, 128)                  8320      ['global_average_pooling2d[0][\n",
      "                                                                    0]']                          \n",
      "                                                                                                  \n",
      " dense_1 (Dense)             (None, 16)                   2064      ['dense[0][0]']               \n",
      "                                                                                                  \n",
      " dense_2 (Dense)             (None, 1)                    17        ['dense_1[0][0]']             \n",
      "                                                                                                  \n",
      "==================================================================================================\n",
      "Total params: 62607 (244.56 KB)\n",
      "Trainable params: 62583 (244.46 KB)\n",
      "Non-trainable params: 24 (96.00 Byte)\n",
      "__________________________________________________________________________________________________\n"
     ]
    }
   ],
   "source": [
    "with strategy.scope():\n",
    "    inputs_raw = tf.keras.layers.Input(shape=(FRAMES_PER_VIDEO, VIDEO_HEIGHT, VIDEO_WIDTH, N_CHANNELS))\n",
    "    inputs_openpose = tf.keras.layers.Input(shape=(FRAMES_PER_VIDEO, VIDEO_HEIGHT, VIDEO_WIDTH, N_CHANNELS))\n",
    "\n",
    "    inputs_diff = tf.keras.layers.Lambda(lambda video: tf.map_fn(frame_func, video))(inputs_raw)\n",
    "    inputs_to_weight = inputs_openpose[:, :-1] if WEIGHT_CURRENT else inputs_openpose[:, 1:]\n",
    "\n",
    "    inputs_diff_norm = tf.keras.layers.BatchNormalization()(inputs_diff)\n",
    "    inputs_diff_time_info_weight = tf.keras.layers.ConvLSTM2D(filters=9, kernel_size=(3, 3), return_sequences=True, data_format='channels_last', activation='tanh')(inputs_diff_norm)\n",
    "\n",
    "    convolutional_layer = tf.keras.layers.Conv2D(filters=9, kernel_size=(3,3), activation='relu')\n",
    "    inputs_openpose_soft = tf.keras.layers.TimeDistributed(convolutional_layer)(inputs_to_weight)\n",
    "\n",
    "    inputs_openpose_norm = tf.keras.layers.BatchNormalization(scale=False, center=False)(inputs_openpose_soft)\n",
    "\n",
    "    inputs_weighted = tf.keras.layers.Add()([inputs_openpose_norm, inputs_diff_time_info_weight])\n",
    "\n",
    "    x = tf.keras.layers.ConvLSTM2D(filters=32, kernel_size=(3, 3), return_sequences=False, data_format='channels_last', activation='tanh')(inputs_weighted)\n",
    "\n",
    "    x = tf.keras.layers.DepthwiseConv2D(kernel_size=(3, 3), depth_multiplier=2, activation='relu', data_format='channels_last')(x)\n",
    "\n",
    "    x = tf.keras.layers.GlobalAveragePooling2D(data_format='channels_last')(x)\n",
    "\n",
    "    x = tf.keras.layers.Dense(units=128, activation='relu')(x)\n",
    "    x = tf.keras.layers.Dense(units=16, activation='relu')(x)\n",
    "    outputs = tf.keras.layers.Dense(units=1, activation='sigmoid')(x)\n",
    "\n",
    "    model = tf.keras.Model([inputs_raw, inputs_openpose], outputs)\n",
    "    model.compile(optimizer='adam', loss='binary_crossentropy', metrics=['accuracy'])\n",
    "    model = tf.keras.models.load_model('final_model.h5')\n",
    "    model.summary()"
   ]
  },
  {
   "cell_type": "markdown",
   "metadata": {},
   "source": [
    "# Load pretrained best model to continue training"
   ]
  },
  {
   "cell_type": "code",
   "execution_count": 12,
   "metadata": {},
   "outputs": [],
   "source": [
    "model_checkpoint_callback = tf.keras.callbacks.ModelCheckpoint(\n",
    "    filepath=f'augmented_best_model.h5',\n",
    "    monitor='val_accuracy',\n",
    "    mode='max',\n",
    "    save_best_only=True)"
   ]
  },
  {
   "cell_type": "code",
   "execution_count": 13,
   "metadata": {
    "pycharm": {
     "is_executing": true
    }
   },
   "outputs": [
    {
     "name": "stdout",
     "output_type": "stream",
     "text": [
      "Epoch 1/10\n",
      "INFO:tensorflow:Collective all_reduce tensors: 18 all_reduces, num_devices = 4, group_size = 4, implementation = CommunicationImplementation.NCCL, num_packs = 1\n"
     ]
    },
    {
     "name": "stderr",
     "output_type": "stream",
     "text": [
      "2023-12-04 07:40:36.233684: I tensorflow/compiler/xla/stream_executor/cuda/cuda_dnn.cc:442] Loaded cuDNN version 8700\n",
      "2023-12-04 07:40:36.370055: I tensorflow/compiler/xla/stream_executor/cuda/cuda_dnn.cc:442] Loaded cuDNN version 8700\n",
      "2023-12-04 07:40:36.416285: I tensorflow/compiler/xla/stream_executor/cuda/cuda_dnn.cc:442] Loaded cuDNN version 8700\n",
      "2023-12-04 07:40:36.455172: I tensorflow/compiler/xla/stream_executor/cuda/cuda_dnn.cc:442] Loaded cuDNN version 8700\n",
      "2023-12-04 07:40:44.665112: I tensorflow/compiler/xla/service/service.cc:168] XLA service 0x7fdc61131560 initialized for platform CUDA (this does not guarantee that XLA will be used). Devices:\n",
      "2023-12-04 07:40:44.665171: I tensorflow/compiler/xla/service/service.cc:176]   StreamExecutor device (0): NVIDIA RTX A5000, Compute Capability 8.6\n",
      "2023-12-04 07:40:44.665223: I tensorflow/compiler/xla/service/service.cc:176]   StreamExecutor device (1): NVIDIA RTX A5000, Compute Capability 8.6\n",
      "2023-12-04 07:40:44.665232: I tensorflow/compiler/xla/service/service.cc:176]   StreamExecutor device (2): NVIDIA RTX A5000, Compute Capability 8.6\n",
      "2023-12-04 07:40:44.665246: I tensorflow/compiler/xla/service/service.cc:176]   StreamExecutor device (3): NVIDIA RTX A5000, Compute Capability 8.6\n",
      "2023-12-04 07:40:44.680216: I tensorflow/compiler/mlir/tensorflow/utils/dump_mlir_util.cc:269] disabling MLIR crash reproducer, set env var `MLIR_CRASH_REPRODUCER_DIRECTORY` to enable.\n",
      "2023-12-04 07:40:44.846464: I ./tensorflow/compiler/jit/device_compiler.h:186] Compiled cluster using XLA!  This line is logged at most once for the lifetime of the process.\n"
     ]
    },
    {
     "name": "stdout",
     "output_type": "stream",
     "text": [
      "87/87 [==============================] - 1851s 21s/step - loss: 0.6285 - accuracy: 0.6816 - val_loss: 0.3774 - val_accuracy: 0.8650\n"
     ]
    },
    {
     "name": "stderr",
     "output_type": "stream",
     "text": [
      "/opt/conda/lib/python3.10/site-packages/keras/src/engine/training.py:3079: UserWarning: You are saving your model as an HDF5 file via `model.save()`. This file format is considered legacy. We recommend using instead the native Keras format, e.g. `model.save('my_model.keras')`.\n",
      "  saving_api.save_model(\n"
     ]
    },
    {
     "name": "stdout",
     "output_type": "stream",
     "text": [
      "Epoch 2/10\n",
      "87/87 [==============================] - 1618s 19s/step - loss: 0.4776 - accuracy: 0.7786 - val_loss: 0.4523 - val_accuracy: 0.8150\n",
      "Epoch 3/10\n",
      "87/87 [==============================] - 1609s 18s/step - loss: 0.4477 - accuracy: 0.7974 - val_loss: 0.5025 - val_accuracy: 0.7850\n",
      "Epoch 4/10\n",
      "87/87 [==============================] - 1599s 18s/step - loss: 0.4341 - accuracy: 0.8037 - val_loss: 0.3620 - val_accuracy: 0.8500\n",
      "Epoch 5/10\n",
      "87/87 [==============================] - 1730s 20s/step - loss: 0.4189 - accuracy: 0.8147 - val_loss: 0.4003 - val_accuracy: 0.8400\n",
      "Epoch 6/10\n",
      "87/87 [==============================] - 1786s 20s/step - loss: 0.4088 - accuracy: 0.8200 - val_loss: 0.4909 - val_accuracy: 0.8000\n",
      "Epoch 7/10\n",
      "87/87 [==============================] - 2581s 30s/step - loss: 0.3976 - accuracy: 0.8279 - val_loss: 0.3593 - val_accuracy: 0.8500\n",
      "Epoch 8/10\n",
      "87/87 [==============================] - 2024s 23s/step - loss: 0.3916 - accuracy: 0.8274 - val_loss: 0.3575 - val_accuracy: 0.8550\n",
      "Epoch 9/10\n",
      "87/87 [==============================] - 2106s 24s/step - loss: 0.3843 - accuracy: 0.8308 - val_loss: 0.3751 - val_accuracy: 0.8450\n",
      "Epoch 10/10\n",
      "87/87 [==============================] - 1746s 20s/step - loss: 0.3798 - accuracy: 0.8349 - val_loss: 0.3365 - val_accuracy: 0.8900\n"
     ]
    }
   ],
   "source": [
    "history = model.fit(train_generator, epochs=20, validation_data=test_generator, callbacks=[model_checkpoint_callback])"
   ]
  },
  {
   "cell_type": "markdown",
   "metadata": {},
   "source": [
    "# Model performance"
   ]
  },
  {
   "cell_type": "code",
   "execution_count": 14,
   "metadata": {
    "pycharm": {
     "is_executing": true
    },
    "tags": []
   },
   "outputs": [
    {
     "data": {
      "image/png": "[encoded data removed]",
      "text/plain": [
       "<Figure size 640x480 with 1 Axes>"
      ]
     },
     "metadata": {},
     "output_type": "display_data"
    },
    {
     "data": {
      "image/png": "[encoded data removed]",
      "text/plain": [
       "<Figure size 640x480 with 1 Axes>"
      ]
     },
     "metadata": {},
     "output_type": "display_data"
    }
   ],
   "source": [
    "import matplotlib.pyplot as plt\n",
    "# summarize history for accuracy\n",
    "plt.plot(history.history['accuracy'])\n",
    "plt.plot(history.history['val_accuracy'])\n",
    "plt.title('model accuracy')\n",
    "plt.ylabel('accuracy')\n",
    "plt.xlabel('epoch')\n",
    "plt.legend(['train', 'test'], loc='upper left')\n",
    "plt.savefig('augmented_accuracy_20.png')\n",
    "plt.show()\n",
    "# summarize history for loss\n",
    "plt.plot(history.history['loss'])\n",
    "plt.plot(history.history['val_loss'])\n",
    "plt.title('model loss')\n",
    "plt.ylabel('loss')\n",
    "plt.xlabel('epoch')\n",
    "plt.legend(['train', 'test'], loc='upper left')\n",
    "plt.savefig('augmented_loss_20.png')\n",
    "plt.show()"
   ]
  }
 ],
 "metadata": {
  "kernelspec": {
   "display_name": "Python 3 (ipykernel)",
   "language": "python",
   "name": "python3"
  },
  "language_info": {
   "codemirror_mode": {
    "name": "ipython",
    "version": 3
   },
   "file_extension": ".py",
   "mimetype": "text/x-python",
   "name": "python",
   "nbconvert_exporter": "python",
   "pygments_lexer": "ipython3",
   "version": "3.10.13"
  }
 },
 "nbformat": 4,
 "nbformat_minor": 4
}
