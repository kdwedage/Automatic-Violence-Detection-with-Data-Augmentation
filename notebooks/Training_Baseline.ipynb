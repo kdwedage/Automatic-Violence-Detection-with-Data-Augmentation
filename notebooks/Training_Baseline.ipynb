{
 "cells": [
  {
   "attachments": {},
   "cell_type": "markdown",
   "metadata": {
    "_cell_guid": "b1076dfc-b9ad-4769-8c92-a6c4dae69d19",
    "_uuid": "8f2839f25d086af736a60e9eeb907d3b93b6e0e5"
   },
   "source": [
    "Training the Baseline AVD DL model for 30 epochs on the non DA training data.\n",
    "Note base script originates from https://github.com/atmguille/Violence-Detection-With-Human-Skeletons"
   ]
  },
  {
   "cell_type": "code",
   "execution_count": 1,
   "metadata": {},
   "outputs": [],
   "source": [
    "# Use output of OpenPose with or without background\n",
    "BACKGROUND = False\n",
    "# Paths to videos for training\n",
    "PATHS = [\"/home/Datasets/RWF-2000\", f\"/home/Datasets/Openpose_RWF_blending\"]\n",
    "\n",
    "FRAME_FUNC = 'frame_diff'\n",
    "# To use frame diff to weight t (current) or t+1\n",
    "WEIGHT_CURRENT = True"
   ]
  },
  {
   "cell_type": "code",
   "execution_count": 2,
   "metadata": {},
   "outputs": [
    {
     "name": "stderr",
     "output_type": "stream",
     "text": [
      "2023-11-26 19:23:50.225590: I tensorflow/core/util/port.cc:111] oneDNN custom operations are on. You may see slightly different numerical results due to floating-point round-off errors from different computation orders. To turn them off, set the environment variable `TF_ENABLE_ONEDNN_OPTS=0`.\n",
      "2023-11-26 19:23:50.291132: E tensorflow/compiler/xla/stream_executor/cuda/cuda_dnn.cc:9342] Unable to register cuDNN factory: Attempting to register factory for plugin cuDNN when one has already been registered\n",
      "2023-11-26 19:23:50.291179: E tensorflow/compiler/xla/stream_executor/cuda/cuda_fft.cc:609] Unable to register cuFFT factory: Attempting to register factory for plugin cuFFT when one has already been registered\n",
      "2023-11-26 19:23:50.291224: E tensorflow/compiler/xla/stream_executor/cuda/cuda_blas.cc:1518] Unable to register cuBLAS factory: Attempting to register factory for plugin cuBLAS when one has already been registered\n",
      "2023-11-26 19:23:50.308013: I tensorflow/core/platform/cpu_feature_guard.cc:182] This TensorFlow binary is optimized to use available CPU instructions in performance-critical operations.\n",
      "To enable the following instructions: AVX2 AVX512F AVX512_VNNI FMA, in other operations, rebuild TensorFlow with the appropriate compiler flags.\n"
     ]
    }
   ],
   "source": [
    "import tensorflow as tf"
   ]
  },
  {
   "cell_type": "code",
   "execution_count": 3,
   "metadata": {
    "pycharm": {
     "name": "#%%\n"
    }
   },
   "outputs": [],
   "source": [
    "# !export TF_FORCE_GPU_ALLOW_GROWTH=True\n",
    "# gpus = tf.config.list_physical_devices('GPU')\n",
    "# if gpus:\n",
    "#     # Currently, memory growth needs to be the same across GPUs\n",
    "#     for gpu in gpus:\n",
    "#         tf.config.experimental.set_memory_growth(gpu, True)\n",
    "    #tf.config.set_visible_devices(gpus[0:], 'GPU')"
   ]
  },
  {
   "cell_type": "code",
   "execution_count": 4,
   "metadata": {},
   "outputs": [
    {
     "name": "stdout",
     "output_type": "stream",
     "text": [
      "INFO:tensorflow:Using MirroredStrategy with devices ('/job:localhost/replica:0/task:0/device:GPU:0', '/job:localhost/replica:0/task:0/device:GPU:1', '/job:localhost/replica:0/task:0/device:GPU:2', '/job:localhost/replica:0/task:0/device:GPU:3')\n"
     ]
    },
    {
     "name": "stderr",
     "output_type": "stream",
     "text": [
      "2023-11-26 19:23:53.285515: I tensorflow/core/common_runtime/gpu/gpu_device.cc:1886] Created device /job:localhost/replica:0/task:0/device:GPU:0 with 22493 MB memory:  -> device: 0, name: NVIDIA RTX A5000, pci bus id: 0000:1a:00.0, compute capability: 8.6\n",
      "2023-11-26 19:23:53.286343: I tensorflow/core/common_runtime/gpu/gpu_device.cc:1886] Created device /job:localhost/replica:0/task:0/device:GPU:1 with 22493 MB memory:  -> device: 1, name: NVIDIA RTX A5000, pci bus id: 0000:89:00.0, compute capability: 8.6\n",
      "2023-11-26 19:23:53.287143: I tensorflow/core/common_runtime/gpu/gpu_device.cc:1886] Created device /job:localhost/replica:0/task:0/device:GPU:2 with 22493 MB memory:  -> device: 2, name: NVIDIA RTX A5000, pci bus id: 0000:b1:00.0, compute capability: 8.6\n",
      "2023-11-26 19:23:53.287907: I tensorflow/core/common_runtime/gpu/gpu_device.cc:1886] Created device /job:localhost/replica:0/task:0/device:GPU:3 with 22493 MB memory:  -> device: 3, name: NVIDIA RTX A5000, pci bus id: 0000:b2:00.0, compute capability: 8.6\n"
     ]
    },
    {
     "name": "stdout",
     "output_type": "stream",
     "text": [
      "Number of devices: 4\n"
     ]
    }
   ],
   "source": [
    "strategy = tf.distribute.MirroredStrategy()\n",
    "print('Number of devices: {}'.format(strategy.num_replicas_in_sync))\n"
   ]
  },
  {
   "cell_type": "markdown",
   "metadata": {},
   "source": [
    "Set seed"
   ]
  },
  {
   "cell_type": "code",
   "execution_count": 5,
   "metadata": {},
   "outputs": [],
   "source": [
    "SEED = 0\n",
    "import random\n",
    "import numpy as np\n",
    "random.seed(SEED)\n",
    "np.random.seed(SEED)\n",
    "tf.random.set_seed(SEED)"
   ]
  },
  {
   "cell_type": "markdown",
   "metadata": {},
   "source": [
    "# Load data"
   ]
  },
  {
   "cell_type": "code",
   "execution_count": 6,
   "metadata": {},
   "outputs": [],
   "source": [
    "import numpy as np\n",
    "import cv2"
   ]
  },
  {
   "cell_type": "code",
   "execution_count": 7,
   "metadata": {},
   "outputs": [],
   "source": [
    "ORIGINAL_FRAMES_PER_VIDEO = 150\n",
    "FRAMES_PER_VIDEO = 50 + 1\n",
    "VIDEO_WIDTH, VIDEO_HEIGHT = 100, 100\n",
    "N_CHANNELS = 3\n",
    "\n",
    "def load_videos(video_IDs: list, video_frames: int = FRAMES_PER_VIDEO, video_width: int = VIDEO_WIDTH, video_height: int = VIDEO_HEIGHT,\n",
    "                video_channels: int = N_CHANNELS, dtype = np.float32, normalize: bool = False) -> tuple:\n",
    "    videos = np.empty((len(video_IDs), video_frames, video_height, video_width, video_channels), dtype=dtype)\n",
    "\n",
    "    # Indexes of frames to be kept to comply with video_frames\n",
    "    frames_idx = set(np.round(np.linspace(0, ORIGINAL_FRAMES_PER_VIDEO - 1, video_frames)).astype(int))\n",
    "    try:\n",
    "        for i, video_ID in enumerate(video_IDs):\n",
    "            cap = cv2.VideoCapture(video_ID)\n",
    "            frames = []\n",
    "            index = 0\n",
    "            while True:\n",
    "                ret, frame = cap.read()\n",
    "                if not ret:\n",
    "                    break\n",
    "                if index in frames_idx:\n",
    "                    frame = cv2.resize(frame, (video_width, video_height)).astype(dtype)\n",
    "                    if normalize:\n",
    "                        frame /= 255.0\n",
    "                    frames.append(frame)\n",
    "                index += 1\n",
    "            cap.release()\n",
    "\n",
    "            videos[i,] = np.array(frames)\n",
    "    except Exception as e:\n",
    "        print(f'Error: {str(e)}')\n",
    "        print(f'Error video_ID: {video_ID}')\n",
    "\n",
    "    return videos"
   ]
  },
  {
   "cell_type": "markdown",
   "metadata": {},
   "source": [
    "DataGenerator class to load videos per batch, in case all videos do not fit in memory"
   ]
  },
  {
   "cell_type": "code",
   "execution_count": 8,
   "metadata": {},
   "outputs": [],
   "source": [
    "import gc\n",
    "from tensorflow.keras import backend as K\n",
    "\n",
    "class DataGenerator(tf.keras.utils.Sequence):\n",
    "    def __init__(self, video_IDs: list, video_labels: dict, batch_size: int, paths: list = [''], video_width: int = VIDEO_WIDTH, video_height: int = VIDEO_HEIGHT,\n",
    "                video_frames: int = FRAMES_PER_VIDEO, video_channels: int = N_CHANNELS, dtype = np.float32, normalize: bool = False, shuffle: bool = True):\n",
    "        self.video_IDs = video_IDs\n",
    "        self.video_labels = video_labels\n",
    "        self.batch_size = batch_size\n",
    "        self.paths = paths\n",
    "        self.video_width = video_width\n",
    "        self.video_height = video_height\n",
    "        self.video_frames = video_frames\n",
    "        self.video_channels = video_channels\n",
    "        self.dtype = dtype\n",
    "        self.normalize = normalize\n",
    "        self.shuffle = shuffle\n",
    "\n",
    "    def __len__(self):\n",
    "        return len(self.video_IDs) // self.batch_size\n",
    "\n",
    "    def __getitem__(self, idx):\n",
    "        batch_IDs = self.video_IDs[idx*self.batch_size:(idx+1)*self.batch_size]\n",
    "        input_videos = []\n",
    "        \n",
    "        for index, path in enumerate(self.paths):\n",
    "            batch_IDs_full_path = [path+ID for ID in batch_IDs]\n",
    "\n",
    "            videos = load_videos(batch_IDs_full_path, self.video_frames, self.video_width, \n",
    "                                         self.video_height, self.video_channels, self.dtype, self.normalize)\n",
    "            \n",
    "            input_videos.append(videos)\n",
    "        \n",
    "        labels = np.array([self.video_labels[ID] for ID in batch_IDs])\n",
    "                    \n",
    "        return input_videos, labels\n",
    "            \n",
    "    \n",
    "    def on_epoch_end(self):\n",
    "        'Updates indexes after each epoch'\n",
    "        if self.shuffle:\n",
    "            np.random.shuffle(self.video_IDs)\n",
    "        # Clear memory after epochs\n",
    "        gc.collect()\n",
    "        #K.clear_session()"
   ]
  },
  {
   "cell_type": "markdown",
   "metadata": {},
   "source": [
    "## Videos to load"
   ]
  },
  {
   "cell_type": "code",
   "execution_count": 9,
   "metadata": {},
   "outputs": [],
   "source": [
    "def get_slug_from_path(path):\n",
    "    \"\"\"\n",
    "    Function to get slug from path\n",
    "    slug must contain /train or /val because there are repeated names\n",
    "    \"\"\"\n",
    "    # Try train index first\n",
    "    index = path.rfind('/train/')\n",
    "    if index == -1:\n",
    "        index = path.rfind('/val/')\n",
    "    return path[index:]"
   ]
  },
  {
   "cell_type": "code",
   "execution_count": 10,
   "metadata": {},
   "outputs": [],
   "source": [
    "import glob\n",
    "\n",
    "train_video_IDs = [get_slug_from_path(path) for path in glob.glob(PATHS[0]+'/train/*/*')]\n",
    "test_video_IDs = [get_slug_from_path(path) for path in glob.glob(PATHS[0]+'/val/*/*')]\n",
    "\n",
    "train_video_labels = {video: 0 if 'NonFight' in video else 1 for video in train_video_IDs}\n",
    "test_video_labels = {video: 0 if 'NonFight' in video else 1 for video in test_video_IDs}\n",
    "\n",
    "\n",
    "train_generator = DataGenerator(train_video_IDs, train_video_labels, batch_size=64, paths=PATHS)\n",
    "test_generator = DataGenerator(test_video_IDs, test_video_labels, batch_size=10, paths=PATHS)"
   ]
  },
  {
   "cell_type": "markdown",
   "metadata": {},
   "source": [
    "# Frame functions"
   ]
  },
  {
   "cell_type": "code",
   "execution_count": 11,
   "metadata": {},
   "outputs": [],
   "source": [
    "import tensorflow.keras.backend as K\n",
    "\n",
    "def tf_frame_diff(video):\n",
    "    return video[1:] - video[:-1]\n",
    "\n",
    "def tf_frame_dist(video):\n",
    "    video_diff = tf_frame_diff(video)\n",
    "    return K.sqrt(K.sum(K.square(video_diff), axis=-1, keepdims=True))\n",
    "\n",
    "if WEIGHT_CURRENT:\n",
    "    def tf_frame_diff_dist_combined(video):\n",
    "        video_diff = tf_frame_diff(video)\n",
    "        video_diff_current = tf.nn.relu(-video_diff)\n",
    "        video_diff_next = tf.nn.relu(video_diff)\n",
    "        video_diff_next_norm = K.sqrt(K.sum(K.square(video_diff_next), axis=-1, keepdims=True))\n",
    "        return K.concatenate([video_diff_current, video_diff_next_norm])\n",
    "else:\n",
    "    def tf_frame_diff_dist_combined(video):\n",
    "        video_diff = tf_frame_diff(video)\n",
    "        video_diff_current = tf.nn.relu(video_diff)\n",
    "        video_diff_prev = tf.nn.relu(-video_diff)\n",
    "        video_diff_prev_norm = K.sqrt(K.sum(K.square(video_diff_prev), axis=-1, keepdims=True))\n",
    "        return K.concatenate([video_diff_current, video_diff_prev_norm])\n",
    "    \n",
    "frame_func_dict = {'frame_diff': tf_frame_diff, 'frame_dist': tf_frame_dist, 'frame_diff_dist_combined': tf_frame_diff_dist_combined}\n",
    "frame_func = frame_func_dict[FRAME_FUNC]"
   ]
  },
  {
   "cell_type": "markdown",
   "metadata": {},
   "source": [
    "# ConvLSTM"
   ]
  },
  {
   "cell_type": "code",
   "execution_count": 12,
   "metadata": {},
   "outputs": [
    {
     "name": "stdout",
     "output_type": "stream",
     "text": [
      "INFO:tensorflow:Reduce to /job:localhost/replica:0/task:0/device:CPU:0 then broadcast to ('/job:localhost/replica:0/task:0/device:CPU:0',).\n",
      "INFO:tensorflow:Reduce to /job:localhost/replica:0/task:0/device:CPU:0 then broadcast to ('/job:localhost/replica:0/task:0/device:CPU:0',).\n",
      "INFO:tensorflow:Reduce to /job:localhost/replica:0/task:0/device:CPU:0 then broadcast to ('/job:localhost/replica:0/task:0/device:CPU:0',).\n",
      "INFO:tensorflow:Reduce to /job:localhost/replica:0/task:0/device:CPU:0 then broadcast to ('/job:localhost/replica:0/task:0/device:CPU:0',).\n",
      "Model: \"model\"\n",
      "__________________________________________________________________________________________________\n",
      " Layer (type)                Output Shape                 Param #   Connected to                  \n",
      "==================================================================================================\n",
      " input_2 (InputLayer)        [(None, 51, 100, 100, 3)]    0         []                            \n",
      "                                                                                                  \n",
      " input_1 (InputLayer)        [(None, 51, 100, 100, 3)]    0         []                            \n",
      "                                                                                                  \n",
      " tf.__operators__.getitem (  (None, 50, 100, 100, 3)      0         ['input_2[0][0]']             \n",
      " SlicingOpLambda)                                                                                 \n",
      "                                                                                                  \n",
      " lambda (Lambda)             (None, 50, 100, 100, 3)      0         ['input_1[0][0]']             \n",
      "                                                                                                  \n",
      " time_distributed (TimeDist  (None, 50, 98, 98, 9)        252       ['tf.__operators__.getitem[0][\n",
      " ributed)                                                           0]']                          \n",
      "                                                                                                  \n",
      " batch_normalization (Batch  (None, 50, 100, 100, 3)      12        ['lambda[0][0]']              \n",
      " Normalization)                                                                                   \n",
      "                                                                                                  \n",
      " batch_normalization_1 (Bat  (None, 50, 98, 98, 9)        18        ['time_distributed[0][0]']    \n",
      " chNormalization)                                                                                 \n",
      "                                                                                                  \n",
      " conv_lstm2d (ConvLSTM2D)    (None, 50, 98, 98, 9)        3924      ['batch_normalization[0][0]'] \n",
      "                                                                                                  \n",
      " add (Add)                   (None, 50, 98, 98, 9)        0         ['batch_normalization_1[0][0]'\n",
      "                                                                    , 'conv_lstm2d[0][0]']        \n",
      "                                                                                                  \n",
      " conv_lstm2d_1 (ConvLSTM2D)  (None, 96, 96, 32)           47360     ['add[0][0]']                 \n",
      "                                                                                                  \n",
      " depthwise_conv2d (Depthwis  (None, 94, 94, 64)           640       ['conv_lstm2d_1[0][0]']       \n",
      " eConv2D)                                                                                         \n",
      "                                                                                                  \n",
      " global_average_pooling2d (  (None, 64)                   0         ['depthwise_conv2d[0][0]']    \n",
      " GlobalAveragePooling2D)                                                                          \n",
      "                                                                                                  \n",
      " dense (Dense)               (None, 128)                  8320      ['global_average_pooling2d[0][\n",
      "                                                                    0]']                          \n",
      "                                                                                                  \n",
      " dense_1 (Dense)             (None, 16)                   2064      ['dense[0][0]']               \n",
      "                                                                                                  \n",
      " dense_2 (Dense)             (None, 1)                    17        ['dense_1[0][0]']             \n",
      "                                                                                                  \n",
      "==================================================================================================\n",
      "Total params: 62607 (244.56 KB)\n",
      "Trainable params: 62583 (244.46 KB)\n",
      "Non-trainable params: 24 (96.00 Byte)\n",
      "__________________________________________________________________________________________________\n"
     ]
    }
   ],
   "source": [
    "with strategy.scope():\n",
    "    inputs_raw = tf.keras.layers.Input(shape=(FRAMES_PER_VIDEO, VIDEO_HEIGHT, VIDEO_WIDTH, N_CHANNELS))\n",
    "    inputs_openpose = tf.keras.layers.Input(shape=(FRAMES_PER_VIDEO, VIDEO_HEIGHT, VIDEO_WIDTH, N_CHANNELS))\n",
    "\n",
    "    inputs_diff = tf.keras.layers.Lambda(lambda video: tf.map_fn(frame_func, video))(inputs_raw)\n",
    "    inputs_to_weight = inputs_openpose[:, :-1] if WEIGHT_CURRENT else inputs_openpose[:, 1:]\n",
    "\n",
    "    inputs_diff_norm = tf.keras.layers.BatchNormalization()(inputs_diff)\n",
    "    inputs_diff_time_info_weight = tf.keras.layers.ConvLSTM2D(filters=9, kernel_size=(3, 3), return_sequences=True, data_format='channels_last', activation='tanh')(inputs_diff_norm)\n",
    "\n",
    "    convolutional_layer = tf.keras.layers.Conv2D(filters=9, kernel_size=(3,3), activation='relu')\n",
    "    inputs_openpose_soft = tf.keras.layers.TimeDistributed(convolutional_layer)(inputs_to_weight)\n",
    "\n",
    "    inputs_openpose_norm = tf.keras.layers.BatchNormalization(scale=False, center=False)(inputs_openpose_soft)\n",
    "\n",
    "    inputs_weighted = tf.keras.layers.Add()([inputs_openpose_norm, inputs_diff_time_info_weight])\n",
    "\n",
    "    x = tf.keras.layers.ConvLSTM2D(filters=32, kernel_size=(3, 3), return_sequences=False, data_format='channels_last', activation='tanh')(inputs_weighted)\n",
    "\n",
    "    x = tf.keras.layers.DepthwiseConv2D(kernel_size=(3, 3), depth_multiplier=2, activation='relu', data_format='channels_last')(x)\n",
    "\n",
    "    x = tf.keras.layers.GlobalAveragePooling2D(data_format='channels_last')(x)\n",
    "\n",
    "    x = tf.keras.layers.Dense(units=128, activation='relu')(x)\n",
    "    x = tf.keras.layers.Dense(units=16, activation='relu')(x)\n",
    "    outputs = tf.keras.layers.Dense(units=1, activation='sigmoid')(x)\n",
    "\n",
    "    model = tf.keras.Model([inputs_raw, inputs_openpose], outputs)\n",
    "    model.compile(optimizer='adam', loss='binary_crossentropy', metrics=['accuracy'])\n",
    "\n",
    "    model.summary()"
   ]
  },
  {
   "cell_type": "code",
   "execution_count": 13,
   "metadata": {
    "pycharm": {
     "is_executing": true
    }
   },
   "outputs": [
    {
     "name": "stdout",
     "output_type": "stream",
     "text": [
      "Epoch 1/30\n",
      "INFO:tensorflow:Collective all_reduce tensors: 18 all_reduces, num_devices = 4, group_size = 4, implementation = CommunicationImplementation.NCCL, num_packs = 1\n",
      "INFO:tensorflow:Reduce to /job:localhost/replica:0/task:0/device:CPU:0 then broadcast to ('/job:localhost/replica:0/task:0/device:CPU:0',).\n",
      "INFO:tensorflow:Reduce to /job:localhost/replica:0/task:0/device:CPU:0 then broadcast to ('/job:localhost/replica:0/task:0/device:CPU:0',).\n",
      "INFO:tensorflow:Reduce to /job:localhost/replica:0/task:0/device:CPU:0 then broadcast to ('/job:localhost/replica:0/task:0/device:CPU:0',).\n",
      "INFO:tensorflow:Reduce to /job:localhost/replica:0/task:0/device:CPU:0 then broadcast to ('/job:localhost/replica:0/task:0/device:CPU:0',).\n",
      "INFO:tensorflow:Collective all_reduce tensors: 18 all_reduces, num_devices = 4, group_size = 4, implementation = CommunicationImplementation.NCCL, num_packs = 1\n",
      "INFO:tensorflow:Reduce to /job:localhost/replica:0/task:0/device:CPU:0 then broadcast to ('/job:localhost/replica:0/task:0/device:CPU:0',).\n",
      "INFO:tensorflow:Reduce to /job:localhost/replica:0/task:0/device:CPU:0 then broadcast to ('/job:localhost/replica:0/task:0/device:CPU:0',).\n"
     ]
    },
    {
     "name": "stderr",
     "output_type": "stream",
     "text": [
      "2023-11-26 19:24:57.679302: I tensorflow/compiler/xla/stream_executor/cuda/cuda_dnn.cc:442] Loaded cuDNN version 8700\n",
      "2023-11-26 19:24:57.727036: I tensorflow/compiler/xla/stream_executor/cuda/cuda_dnn.cc:442] Loaded cuDNN version 8700\n",
      "2023-11-26 19:24:57.765720: I tensorflow/compiler/xla/stream_executor/cuda/cuda_dnn.cc:442] Loaded cuDNN version 8700\n",
      "2023-11-26 19:24:57.832415: I tensorflow/compiler/xla/stream_executor/cuda/cuda_dnn.cc:442] Loaded cuDNN version 8700\n",
      "2023-11-26 19:25:05.835808: I tensorflow/compiler/xla/service/service.cc:168] XLA service 0x7f9a968adf30 initialized for platform CUDA (this does not guarantee that XLA will be used). Devices:\n",
      "2023-11-26 19:25:05.835864: I tensorflow/compiler/xla/service/service.cc:176]   StreamExecutor device (0): NVIDIA RTX A5000, Compute Capability 8.6\n",
      "2023-11-26 19:25:05.835874: I tensorflow/compiler/xla/service/service.cc:176]   StreamExecutor device (1): NVIDIA RTX A5000, Compute Capability 8.6\n",
      "2023-11-26 19:25:05.835884: I tensorflow/compiler/xla/service/service.cc:176]   StreamExecutor device (2): NVIDIA RTX A5000, Compute Capability 8.6\n",
      "2023-11-26 19:25:05.835893: I tensorflow/compiler/xla/service/service.cc:176]   StreamExecutor device (3): NVIDIA RTX A5000, Compute Capability 8.6\n",
      "2023-11-26 19:25:05.850368: I tensorflow/compiler/mlir/tensorflow/utils/dump_mlir_util.cc:269] disabling MLIR crash reproducer, set env var `MLIR_CRASH_REPRODUCER_DIRECTORY` to enable.\n",
      "2023-11-26 19:25:05.995805: I ./tensorflow/compiler/jit/device_compiler.h:186] Compiled cluster using XLA!  This line is logged at most once for the lifetime of the process.\n"
     ]
    },
    {
     "name": "stdout",
     "output_type": "stream",
     "text": [
      "21/21 - 677s - loss: 0.6957 - accuracy: 0.5186 - val_loss: 0.6927 - val_accuracy: 0.5000 - 677s/epoch - 32s/step\n",
      "Epoch 2/30\n",
      "21/21 - 670s - loss: 0.6921 - accuracy: 0.5074 - val_loss: 0.6896 - val_accuracy: 0.6150 - 670s/epoch - 32s/step\n",
      "Epoch 3/30\n",
      "21/21 - 665s - loss: 0.6730 - accuracy: 0.6667 - val_loss: 0.6403 - val_accuracy: 0.7000 - 665s/epoch - 32s/step\n",
      "Epoch 4/30\n",
      "21/21 - 666s - loss: 0.6139 - accuracy: 0.6652 - val_loss: 0.5752 - val_accuracy: 0.7300 - 666s/epoch - 32s/step\n",
      "Epoch 5/30\n",
      "21/21 - 673s - loss: 0.5531 - accuracy: 0.7232 - val_loss: 0.5109 - val_accuracy: 0.7600 - 673s/epoch - 32s/step\n",
      "Epoch 6/30\n",
      "21/21 - 667s - loss: 0.5171 - accuracy: 0.7522 - val_loss: 0.5954 - val_accuracy: 0.6750 - 667s/epoch - 32s/step\n",
      "Epoch 7/30\n",
      "21/21 - 661s - loss: 0.4847 - accuracy: 0.7775 - val_loss: 0.4572 - val_accuracy: 0.8000 - 661s/epoch - 31s/step\n",
      "Epoch 8/30\n",
      "21/21 - 664s - loss: 0.4670 - accuracy: 0.7842 - val_loss: 0.5583 - val_accuracy: 0.7150 - 664s/epoch - 32s/step\n",
      "Epoch 9/30\n",
      "21/21 - 666s - loss: 0.4442 - accuracy: 0.8051 - val_loss: 0.4475 - val_accuracy: 0.7850 - 666s/epoch - 32s/step\n",
      "Epoch 10/30\n",
      "21/21 - 670s - loss: 0.4360 - accuracy: 0.8058 - val_loss: 0.4809 - val_accuracy: 0.7900 - 670s/epoch - 32s/step\n",
      "Epoch 11/30\n",
      "21/21 - 660s - loss: 0.4145 - accuracy: 0.8318 - val_loss: 0.4309 - val_accuracy: 0.8300 - 660s/epoch - 31s/step\n",
      "Epoch 12/30\n",
      "21/21 - 667s - loss: 0.4062 - accuracy: 0.8281 - val_loss: 0.4505 - val_accuracy: 0.8000 - 667s/epoch - 32s/step\n",
      "Epoch 13/30\n",
      "21/21 - 663s - loss: 0.4009 - accuracy: 0.8385 - val_loss: 0.3953 - val_accuracy: 0.8450 - 663s/epoch - 32s/step\n",
      "Epoch 14/30\n",
      "21/21 - 664s - loss: 0.4010 - accuracy: 0.8259 - val_loss: 0.4361 - val_accuracy: 0.8150 - 664s/epoch - 32s/step\n",
      "Epoch 15/30\n",
      "21/21 - 668s - loss: 0.3769 - accuracy: 0.8490 - val_loss: 0.4596 - val_accuracy: 0.8000 - 668s/epoch - 32s/step\n",
      "Epoch 16/30\n",
      "21/21 - 688s - loss: 0.3602 - accuracy: 0.8616 - val_loss: 0.4392 - val_accuracy: 0.8150 - 688s/epoch - 33s/step\n",
      "Epoch 17/30\n",
      "21/21 - 669s - loss: 0.3502 - accuracy: 0.8638 - val_loss: 0.4589 - val_accuracy: 0.8100 - 669s/epoch - 32s/step\n",
      "Epoch 18/30\n",
      "21/21 - 670s - loss: 0.3548 - accuracy: 0.8534 - val_loss: 0.4731 - val_accuracy: 0.7900 - 670s/epoch - 32s/step\n",
      "Epoch 19/30\n",
      "21/21 - 667s - loss: 0.3407 - accuracy: 0.8609 - val_loss: 0.3615 - val_accuracy: 0.8500 - 667s/epoch - 32s/step\n",
      "Epoch 20/30\n",
      "21/21 - 669s - loss: 0.3315 - accuracy: 0.8705 - val_loss: 0.4001 - val_accuracy: 0.8550 - 669s/epoch - 32s/step\n",
      "Epoch 21/30\n",
      "21/21 - 683s - loss: 0.3200 - accuracy: 0.8720 - val_loss: 0.3524 - val_accuracy: 0.8750 - 683s/epoch - 33s/step\n",
      "Epoch 22/30\n",
      "21/21 - 692s - loss: 0.3232 - accuracy: 0.8698 - val_loss: 0.3722 - val_accuracy: 0.8250 - 692s/epoch - 33s/step\n",
      "Epoch 23/30\n",
      "21/21 - 688s - loss: 0.3533 - accuracy: 0.8571 - val_loss: 0.3917 - val_accuracy: 0.8400 - 688s/epoch - 33s/step\n",
      "Epoch 24/30\n",
      "21/21 - 689s - loss: 0.3336 - accuracy: 0.8646 - val_loss: 0.3538 - val_accuracy: 0.8400 - 689s/epoch - 33s/step\n",
      "Epoch 25/30\n",
      "21/21 - 670s - loss: 0.3028 - accuracy: 0.8884 - val_loss: 0.3934 - val_accuracy: 0.8400 - 670s/epoch - 32s/step\n",
      "Epoch 26/30\n",
      "21/21 - 661s - loss: 0.3249 - accuracy: 0.8735 - val_loss: 0.3529 - val_accuracy: 0.8650 - 661s/epoch - 31s/step\n",
      "Epoch 27/30\n",
      "21/21 - 681s - loss: 0.3217 - accuracy: 0.8683 - val_loss: 0.3260 - val_accuracy: 0.8750 - 681s/epoch - 32s/step\n",
      "Epoch 28/30\n",
      "21/21 - 671s - loss: 0.2806 - accuracy: 0.8966 - val_loss: 0.3339 - val_accuracy: 0.8750 - 671s/epoch - 32s/step\n",
      "Epoch 29/30\n",
      "21/21 - 671s - loss: 0.2677 - accuracy: 0.8988 - val_loss: 0.3454 - val_accuracy: 0.8700 - 671s/epoch - 32s/step\n",
      "Epoch 30/30\n",
      "21/21 - 662s - loss: 0.2836 - accuracy: 0.8884 - val_loss: 0.3835 - val_accuracy: 0.8550 - 662s/epoch - 32s/step\n"
     ]
    }
   ],
   "source": [
    "history = model.fit(train_generator, epochs=30, validation_data=test_generator, verbose=2)"
   ]
  },
  {
   "cell_type": "markdown",
   "metadata": {},
   "source": [
    "# Model performance"
   ]
  },
  {
   "cell_type": "code",
   "execution_count": 14,
   "metadata": {},
   "outputs": [
    {
     "name": "stderr",
     "output_type": "stream",
     "text": [
      "/opt/conda/lib/python3.10/site-packages/keras/src/engine/training.py:3079: UserWarning: You are saving your model as an HDF5 file via `model.save()`. This file format is considered legacy. We recommend using instead the native Keras format, e.g. `model.save('my_model.keras')`.\n",
      "  saving_api.save_model(\n"
     ]
    }
   ],
   "source": [
    "model.save('final_model.h5')"
   ]
  },
  {
   "cell_type": "code",
   "execution_count": 15,
   "metadata": {
    "pycharm": {
     "is_executing": true
    },
    "tags": []
   },
   "outputs": [
    {
     "data": {
      "image/png": "[encoded data removed]",
      "text/plain": [
       "<Figure size 640x480 with 1 Axes>"
      ]
     },
     "metadata": {},
     "output_type": "display_data"
    },
    {
     "data": {
      "image/png": "[encoded data removed]",
      "text/plain": [
       "<Figure size 640x480 with 1 Axes>"
      ]
     },
     "metadata": {},
     "output_type": "display_data"
    },
    {
     "data": {
      "text/plain": [
       "<Figure size 640x480 with 0 Axes>"
      ]
     },
     "metadata": {},
     "output_type": "display_data"
    }
   ],
   "source": [
    "import matplotlib.pyplot as plt\n",
    "# summarize history for accuracy\n",
    "plt.plot(history.history['accuracy'])\n",
    "plt.plot(history.history['val_accuracy'])\n",
    "plt.title('model accuracy')\n",
    "plt.ylabel('accuracy')\n",
    "plt.xlabel('epoch')\n",
    "plt.legend(['train', 'test'], loc='upper left')\n",
    "plt.show()\n",
    "plt.savefig('loss.png')\n",
    "# summarize history for loss\n",
    "plt.plot(history.history['loss'])\n",
    "plt.plot(history.history['val_loss'])\n",
    "plt.title('model loss')\n",
    "plt.ylabel('loss')\n",
    "plt.xlabel('epoch')\n",
    "plt.legend(['train', 'test'], loc='upper left')\n",
    "plt.show()\n",
    "plt.savefig('accuracy.png')"
   ]
  }
 ],
 "metadata": {
  "kernelspec": {
   "display_name": "Python 3 (ipykernel)",
   "language": "python",
   "name": "python3"
  },
  "language_info": {
   "codemirror_mode": {
    "name": "ipython",
    "version": 3
   },
   "file_extension": ".py",
   "mimetype": "text/x-python",
   "name": "python",
   "nbconvert_exporter": "python",
   "pygments_lexer": "ipython3",
   "version": "3.10.13"
  }
 },
 "nbformat": 4,
 "nbformat_minor": 4
}
